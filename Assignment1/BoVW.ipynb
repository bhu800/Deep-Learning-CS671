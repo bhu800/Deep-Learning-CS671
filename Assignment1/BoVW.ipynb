{
 "cells": [
  {
   "cell_type": "code",
   "execution_count": 48,
   "metadata": {},
   "outputs": [],
   "source": [
    "import numpy as np\n",
    "import cv2\n",
    "import os\n",
    "import matplotlib.pyplot as plt\n",
    "import numpy as np\n",
    "from scipy.spatial.distance import cdist "
   ]
  },
  {
   "cell_type": "code",
   "execution_count": 49,
   "metadata": {},
   "outputs": [],
   "source": [
    "def padImageForPatches(img, patch_shape):\n",
    "    return cv2.copyMakeBorder(src=img, left=0, right=patch_shape[1]*((img.shape[1]+31)//patch_shape[1])-img.shape[1], top=0, bottom=patch_shape[0]*((img.shape[0]+31)//patch_shape[0])-img.shape[0], borderType=cv2.BORDER_REFLECT)\n",
    "\n",
    "def divideIntoPatches(img, patch_shape):\n",
    "    img = padImageForPatches(img, patch_shape)\n",
    "    img_shape = img.shape\n",
    "    patch_array = np.empty((int((img_shape[0]*img_shape[1])/(patch_shape[0]*patch_shape[1])), patch_shape[0], patch_shape[1], 3), dtype=np.int32)\n",
    "    for i in range(0, int(img_shape[0]/patch_shape[0])):\n",
    "        for j in range(0, int(img_shape[1]/patch_shape[1])):\n",
    "            patch_array[i*int(img_shape[1]/patch_shape[1]) + j] = img[i*patch_shape[0]:i*patch_shape[0]+patch_shape[0], j*patch_shape[1]:j*patch_shape[1]+patch_shape[1], :]\n",
    "\n",
    "    return patch_array\n",
    "\n",
    "def getColorHistFeatures(img, n_bins=8):\n",
    "    img = img//int(256/n_bins)\n",
    "    hist = np.bincount(img[:, :, 0].ravel(), minlength=8)\n",
    "    hist = np.append(hist, np.bincount(img[:, :, 1].ravel(), minlength=8))\n",
    "    hist = np.append(hist, np.bincount(img[:, :, 2].ravel(), minlength=8))\n",
    "    return hist\n",
    "\n",
    "\n",
    "def getHistForPatches(img, patch_shape):\n",
    "    patch_array = divideIntoPatches(img, patch_shape)\n",
    "    n, h, w, c = patch_array.shape\n",
    "    hist_array = np.empty((n, 24), dtype=np.int32)\n",
    "    for i in range(0, n):\n",
    "        hist_array[i] = getColorHistFeatures(patch_array[i])\n",
    "    return hist_array\n",
    "\n",
    "def loadImagesFromDir(dir_path):\n",
    "    images = {}\n",
    "    \n",
    "    for folder in os.listdir(dir_path):\n",
    "        img_arr = []\n",
    "        folder_path = dir_path + \"/\" + folder\n",
    "        for file in os.listdir(folder_path):\n",
    "            img_path = folder_path + \"/\" + file\n",
    "            img = cv2.imread(img_path)\n",
    "            if img is not None:\n",
    "                img_arr.append(img)\n",
    "        images[folder] = img_arr\n",
    "    \n",
    "    return images\n",
    "\n",
    "def getHistForAllImages(images, patch_shape):\n",
    "    images_hist_features = {}\n",
    "\n",
    "    for key, img_arr in images.items():\n",
    "        hist24_arr = []\n",
    "        for img in img_arr:\n",
    "            hist24_arr.append(getHistForPatches(img, patch_shape))\n",
    "        images_hist_features[key] = hist24_arr\n",
    "    \n",
    "    return images_hist_features"
   ]
  },
  {
   "cell_type": "code",
   "execution_count": 50,
   "metadata": {},
   "outputs": [],
   "source": [
    "train_images = loadImagesFromDir(\"Group21/Classification/Image_Group21/train\")\n",
    "test_images = loadImagesFromDir(\"Group21/Classification/Image_Group21/test\")"
   ]
  },
  {
   "cell_type": "code",
   "execution_count": 51,
   "metadata": {},
   "outputs": [],
   "source": [
    "train_imgs_hist = getHistForAllImages(train_images, patch_shape=(32, 32))\n",
    "test_imgs_hist = getHistForAllImages(test_images, patch_shape=(32, 32))"
   ]
  },
  {
   "cell_type": "code",
   "execution_count": 52,
   "metadata": {
    "scrolled": false
   },
   "outputs": [],
   "source": [
    "train_imgs_hist_flattened = np.concatenate([y for x in train_imgs_hist.values() for y in x])"
   ]
  },
  {
   "cell_type": "code",
   "execution_count": 77,
   "metadata": {},
   "outputs": [
    {
     "output_type": "execute_result",
     "data": {
      "text/plain": [
       "(150752, 24)"
      ]
     },
     "metadata": {},
     "execution_count": 77
    }
   ],
   "source": [
    "train_imgs_hist_flattened.shape"
   ]
  },
  {
   "cell_type": "code",
   "execution_count": 58,
   "metadata": {},
   "outputs": [],
   "source": [
    "def kmeans(x, k, no_of_iterations):\n",
    "    idx = np.random.choice(len(x), k, replace=False)\n",
    "    print(idx)\n",
    "    #Randomly choosing Centroids \n",
    "    centroids = x[idx, :] #Step 1\n",
    "     \n",
    "    #finding the distance between centroids and all the data points\n",
    "    distances = cdist(x, centroids ,'euclidean') #Step 2\n",
    "     \n",
    "    #Centroid with the minimum Distance\n",
    "    points = np.array([np.argmin(i) for i in distances]) #Step 3\n",
    "    \n",
    "    for i in range(k):\n",
    "        points[idx[i]] = i\n",
    "        \n",
    "    \n",
    "    #Repeating the above steps for a defined number of iterations\n",
    "    for itr in range(no_of_iterations): \n",
    "        centroids = []\n",
    "        print(f\"*** Iteration {itr} ***\")\n",
    "        for idx in range(k):\n",
    "            #Updating Centroids by taking mean of Cluster it belongs to\n",
    "            print(x[points==idx])\n",
    "            temp_cent = x[points==idx].mean(axis=0) \n",
    "            centroids.append(temp_cent)\n",
    " \n",
    "        centroids = np.vstack(centroids) #Updated Centroids \n",
    "         \n",
    "        distances = cdist(x, centroids ,'euclidean')\n",
    "        points = np.array([np.argmin(i) for i in distances])\n",
    "         \n",
    "    return centroids"
   ]
  },
  {
   "cell_type": "code",
   "execution_count": 83,
   "metadata": {
    "tags": []
   },
   "outputs": [],
   "source": [
    "# centroids = kmeans(train_imgs_hist_flattened, 32, 100)\n",
    "\n",
    "from sklearn.cluster import KMeans\n",
    "kmeans = KMeans(n_clusters=32, random_state=0).fit(train_imgs_hist_flattened)\n",
    "centroids = kmeans.cluster_centers_"
   ]
  },
  {
   "cell_type": "code",
   "execution_count": 87,
   "metadata": {},
   "outputs": [
    {
     "output_type": "stream",
     "name": "stdout",
     "text": [
      "[ 0  0  0 ... 28  6  6]\n[15515 11457  1963  5629  5314  3873  6691  4484  6180  1540 12314  5535\n  4195  4305  3462  2853  2409  3358  3170  6394  3538  1702  6742   748\n  1235  8638  5350  2095  3945  2815  1395  1908]\n39698874647.048\n76\n"
     ]
    }
   ],
   "source": [
    "print(kmeans.labels_)\n",
    "print(np.bincount(kmeans.labels_))\n",
    "print(kmeans.inertia_)\n",
    "print(kmeans.n_iter_)"
   ]
  },
  {
   "cell_type": "code",
   "execution_count": 88,
   "metadata": {},
   "outputs": [],
   "source": [
    "def BoVW_image_feature_vector(img_col_hist, centroids):\n",
    "    distances = cdist(img_col_hist, centroids ,'euclidean')\n",
    "    points = np.array([np.argmin(i) for i in distances])\n",
    "    feature = np.bincount(points, minlength=len(centroids))/points.shape[0]\n",
    "    return feature"
   ]
  },
  {
   "cell_type": "code",
   "execution_count": 89,
   "metadata": {},
   "outputs": [
    {
     "output_type": "execute_result",
     "data": {
      "text/plain": [
       "array([[  0,   0,   0, ...,  24,  61, 858],\n",
       "       [  0,   0,   0, ...,  43,  36, 893],\n",
       "       [  0,   0,   1, ...,  47,  26, 862],\n",
       "       ...,\n",
       "       [  0,   0, 256, ..., 442,  67,   6],\n",
       "       [  0,   0, 263, ..., 239,  92,  36],\n",
       "       [  0,   0, 324, ..., 268,  16,   0]])"
      ]
     },
     "metadata": {},
     "execution_count": 89
    }
   ],
   "source": [
    "list(train_imgs_hist.values())[0][0]"
   ]
  },
  {
   "cell_type": "code",
   "execution_count": 90,
   "metadata": {},
   "outputs": [
    {
     "output_type": "stream",
     "name": "stdout",
     "text": [
      "[0.05769231 0.16346154 0.         0.         0.         0.\n 0.02884615 0.         0.00961538 0.03846154 0.15384615 0.00961538\n 0.04807692 0.         0.         0.05769231 0.         0.04807692\n 0.10576923 0.01923077 0.03846154 0.         0.11538462 0.\n 0.         0.06730769 0.         0.         0.         0.03846154\n 0.         0.        ]\n1.0\n"
     ]
    }
   ],
   "source": [
    "print(BoVW_image_feature_vector(list(train_imgs_hist.values())[0][0], centroids))\n",
    "print(BoVW_image_feature_vector(list(train_imgs_hist.values())[0][0], centroids).sum())"
   ]
  },
  {
   "cell_type": "code",
   "execution_count": 91,
   "metadata": {},
   "outputs": [],
   "source": [
    "img_BoVW_all = {}\n",
    "for img_type, img_hist_array in train_imgs_hist.items():\n",
    "    img_BoVW = np.empty((len(img_hist_array), 32), dtype=np.float64)\n",
    "    for i in range(len(img_hist_array)):\n",
    "        img_BoVW[i] = BoVW_image_feature_vector(img_hist_array[i], centroids)\n",
    "    img_BoVW_all[img_type] = img_BoVW"
   ]
  },
  {
   "cell_type": "code",
   "execution_count": 92,
   "metadata": {},
   "outputs": [
    {
     "output_type": "stream",
     "name": "stdout",
     "text": [
      "[0.05769231 0.16346154 0.         0.         0.         0.\n 0.02884615 0.         0.00961538 0.03846154 0.15384615 0.00961538\n 0.04807692 0.         0.         0.05769231 0.         0.04807692\n 0.10576923 0.01923077 0.03846154 0.         0.11538462 0.\n 0.         0.06730769 0.         0.         0.         0.03846154\n 0.         0.        ]\n1.0\n"
     ]
    }
   ],
   "source": [
    "print(img_BoVW_all[\"batters_box\"][0])\n",
    "print(img_BoVW_all[\"batters_box\"][0].sum())"
   ]
  },
  {
   "cell_type": "code",
   "execution_count": null,
   "metadata": {},
   "outputs": [],
   "source": []
  }
 ],
 "metadata": {
  "kernelspec": {
   "display_name": "venv",
   "language": "python",
   "name": "venv"
  },
  "language_info": {
   "codemirror_mode": {
    "name": "ipython",
    "version": 3
   },
   "file_extension": ".py",
   "mimetype": "text/x-python",
   "name": "python",
   "nbconvert_exporter": "python",
   "pygments_lexer": "ipython3",
   "version": "3.8.6-final"
  }
 },
 "nbformat": 4,
 "nbformat_minor": 4
}