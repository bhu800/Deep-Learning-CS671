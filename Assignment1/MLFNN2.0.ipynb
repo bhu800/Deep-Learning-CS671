{
 "cells": [
  {
   "cell_type": "code",
   "execution_count": 9,
   "metadata": {},
   "outputs": [],
   "source": [
    "import numpy as np\n",
    "import os"
   ]
  },
  {
   "cell_type": "code",
   "execution_count": 14,
   "metadata": {},
   "outputs": [],
   "source": [
    "path = \"./Group21/Classification/LS_Group21\""
   ]
  },
  {
   "cell_type": "code",
   "execution_count": 21,
   "metadata": {},
   "outputs": [],
   "source": [
    "def loadData(dir_path):\n",
    "    data = {}\n",
    "    \n",
    "    for subdir_class in os.listdir(dir_path):\n",
    "        subdir_class_path = dir_path + \"/\" + subdir_class\n",
    "        data[os.path.splitext(subdir_class)[0]] = np.loadtxt(subdir_class_path)\n",
    "    \n",
    "    return data"
   ]
  },
  {
   "source": [
    "data = loadData(path)"
   ],
   "cell_type": "code",
   "metadata": {},
   "execution_count": 26,
   "outputs": []
  },
  {
   "source": [
    "$z^{x, l}= w^{l}a^{x, l-1} + b^{l}$ and $a^{x, l} = \\sigma(z^{x, l})$"
   ],
   "cell_type": "markdown",
   "metadata": {}
  },
  {
   "cell_type": "code",
   "execution_count": 70,
   "metadata": {},
   "outputs": [],
   "source": [
    "class MLFFNN:\n",
    "\n",
    "    # constructor to initialize instance of class\n",
    "    def __init__(self, layers_size = [2, 6, 3]):\n",
    "        self.layers_size = layers_size\n",
    "        self.biases = []\n",
    "        self.weights = []\n",
    "\n",
    "        # initialize weights and biases with random values\n",
    "        for n_neurons in self.layers_size[1:]:\n",
    "            self.biases.append(np.random.randn(n_neurons, 1))\n",
    "        for n1_neurons, n2_neurons in zip(self.layers_size[:-1], self.layers_size[1:]):\n",
    "            self.weights.append(np.random.randn(n2_neurons, n1_neurons))\n",
    "\n",
    "    def feedForward(self, x, return_final_only=False):\n",
    "        a = x # activation vector of a single layer, in this case input layer \n",
    "        A = [x] # list for activation vectors for every layer\n",
    "\n",
    "        Z = [] # list for weighted input vectors for every layer\n",
    "\n",
    "        for b, w in zip(self.biases, self.weights):\n",
    "            z = np.matmul(w, a) + b # z_l = w_l * a_l-1 + b_l\n",
    "            Z.append(z)\n",
    "            a = self.sigmoid_activation(z)\n",
    "            A.append(a)\n",
    "        \n",
    "        if (return_final_only):\n",
    "            return a\n",
    "        else:\n",
    "            return (A, Z)\n",
    "\n",
    "    def backPropagation(self, A, Z, y):\n",
    "        del_C_by_del_b = [np.zeros(b.shape) for b in self.biases]\n",
    "        del_C_by_del_w = [np.zeros(w.shape) for w in self.weights]\n",
    "\n",
    "        del_ = (A[-1] - y) * self.sigmoid_derivative(Z[-1])\n",
    "\n",
    "        del_C_by_del_b[-1] = del_\n",
    "        del_C_by_del_w[-1] = np.matmul(delta, A[-2].T)\n",
    "\n",
    "        for l in range(2, len(self.layers_size)):\n",
    "            z = Z[-l]\n",
    "            del_ = np.matmul(self.weights[-l+1].T, del_) * self.sigmoid_derivative(z)\n",
    "            del_C_by_del_b = del_\n",
    "            del_C_by_del_w = np.matmul(del_, A[-l-1].T)\n",
    "\n",
    "        return (del_C_by_del_b, del_C_by_del_w)\n",
    "\n",
    "\n",
    "    def gradientDescent(X, Y, eta):\n",
    "        n = X.shape[0]\n",
    "        sum_delC_by_del_b = [np.zeros(b.shape) for b in self.biases]\n",
    "        sum_delC_by_del_w = [np.zeros(w.shape) for w in self.weights]\n",
    "\n",
    "        for i in range(len(X)):\n",
    "            # foward pass\n",
    "            A, Z = self.feedForward(X[i])\n",
    "            # backward pass\n",
    "            del_C_by_del_b, del_C_by_del_w = self.backPropagation(A, Z, Y[i])\n",
    "            # sum for calculating average \n",
    "            sum_delC_by_del_b = [s_dcb+dcb for s_dcb, dcb in zip(sum_delC_by_del_b, del_C_by_del_b)]\n",
    "            sum_delC_by_del_w = [s_dcw+dcw for s_dcw, dcw in zip(sum_delC_by_del_w, del_C_by_del_w)]\n",
    "\n",
    "        # update weights and biases\n",
    "        self.weights = [w - (eta/n)*s_dcb for w, s_dcb in zip(self.weights, sum_delC_by_del_w)]\n",
    "        self.biases = [b - (eta/n)*s_dcb for b, s_dcb in zip(self.biases, sum_delC_by_del_b)]\n",
    "\n",
    "    def train(self, train_X, train_Y, test_X, test_Y, epochs=100, eta=0.01):\n",
    "\n",
    "        for e in range(epochs):\n",
    "            self.gradientDescent(X, Y, eta)\n",
    "            test_accuracy = test(test_X, test_Y)\n",
    "            print(f\"=== Epoch {e+1}/{epochs} - test accuracy = {test_accuracy*100}% ===\\n\")\n",
    "\n",
    "    def predictClass(x):\n",
    "        return np.argmax(self.feedForward(x))\n",
    "\n",
    "    def test(self, X, Y):\n",
    "        n = X.shape[0]\n",
    "        pred = np.apply_along_axis(self.predictClass, axis=1, arr=X)\n",
    "        accuracy = (pred == Y).sum()/n\n",
    "\n",
    "        return accuracy\n",
    "\n",
    "    def sigmoid_activation(z):\n",
    "        return 1.0/(1.0+np.exp(-z))\n",
    "\n",
    "    def sigmoid_derivative(z):\n",
    "        return np.exp(-z)/((1.0+np.exp(-z))**2)\n",
    "\n",
    "\n",
    "        "
   ]
  },
  {
   "cell_type": "code",
   "execution_count": 73,
   "metadata": {},
   "outputs": [
    {
     "output_type": "execute_result",
     "data": {
      "text/plain": [
       "array([[1, 2, 3],\n",
       "       [4, 5, 6],\n",
       "       [7, 8, 9]])"
      ]
     },
     "metadata": {},
     "execution_count": 73
    }
   ],
   "source": [
    "np.append([[1, 2, 3], [4, 5, 6]], [[7, 8, 9]], axis=0)"
   ]
  },
  {
   "cell_type": "code",
   "execution_count": 74,
   "metadata": {},
   "outputs": [],
   "source": [
    "a = np.array([[1, 2, 3], [4, 5, 6]])"
   ]
  },
  {
   "cell_type": "code",
   "execution_count": 77,
   "metadata": {},
   "outputs": [
    {
     "output_type": "execute_result",
     "data": {
      "text/plain": [
       "array([ 6, 15])"
      ]
     },
     "metadata": {},
     "execution_count": 77
    }
   ],
   "source": [
    "a.sum(axis=1)"
   ]
  },
  {
   "cell_type": "code",
   "execution_count": null,
   "metadata": {},
   "outputs": [],
   "source": []
  }
 ],
 "metadata": {
  "kernelspec": {
   "display_name": "venv",
   "language": "python",
   "name": "venv"
  },
  "language_info": {
   "codemirror_mode": {
    "name": "ipython",
    "version": 3
   },
   "file_extension": ".py",
   "mimetype": "text/x-python",
   "name": "python",
   "nbconvert_exporter": "python",
   "pygments_lexer": "ipython3",
   "version": "3.8.6-final"
  }
 },
 "nbformat": 4,
 "nbformat_minor": 4
}